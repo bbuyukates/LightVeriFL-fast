{
 "cells": [
  {
   "cell_type": "code",
   "execution_count": 1,
   "metadata": {},
   "outputs": [],
   "source": [
    "import pickle\n",
    "import matplotlib\n",
    "import matplotlib.pyplot as plt\n",
    "\n",
    "import numpy as np"
   ]
  },
  {
   "cell_type": "code",
   "execution_count": 2,
   "metadata": {},
   "outputs": [
    {
     "ename": "ValueError",
     "evalue": "unsupported pickle protocol: 5",
     "output_type": "error",
     "traceback": [
      "\u001b[0;31m---------------------------------------------------------------------------\u001b[0m",
      "\u001b[0;31mValueError\u001b[0m                                Traceback (most recent call last)",
      "\u001b[0;32m<ipython-input-2-ed2909ee7f2b>\u001b[0m in \u001b[0;36m<module>\u001b[0;34m\u001b[0m\n\u001b[1;32m      4\u001b[0m \u001b[0;34m\u001b[0m\u001b[0m\n\u001b[1;32m      5\u001b[0m \u001b[0;32mfor\u001b[0m \u001b[0mi\u001b[0m\u001b[0;34m,\u001b[0m \u001b[0mN\u001b[0m \u001b[0;32min\u001b[0m \u001b[0menumerate\u001b[0m\u001b[0;34m(\u001b[0m\u001b[0mN_array\u001b[0m\u001b[0;34m)\u001b[0m\u001b[0;34m:\u001b[0m\u001b[0;34m\u001b[0m\u001b[0;34m\u001b[0m\u001b[0m\n\u001b[0;32m----> 6\u001b[0;31m     \u001b[0mt_LightVeriFL\u001b[0m  \u001b[0;34m=\u001b[0m \u001b[0mpickle\u001b[0m\u001b[0;34m.\u001b[0m\u001b[0mload\u001b[0m\u001b[0;34m(\u001b[0m\u001b[0mopen\u001b[0m\u001b[0;34m(\u001b[0m\u001b[0;34m'./results/LightVeriFL_N'\u001b[0m\u001b[0;34m+\u001b[0m\u001b[0mstr\u001b[0m\u001b[0;34m(\u001b[0m\u001b[0mN\u001b[0m\u001b[0;34m)\u001b[0m\u001b[0;34m+\u001b[0m\u001b[0;34m'_d10000'\u001b[0m\u001b[0;34m,\u001b[0m \u001b[0;34m'rb'\u001b[0m\u001b[0;34m)\u001b[0m\u001b[0;34m)\u001b[0m\u001b[0;34m\u001b[0m\u001b[0;34m\u001b[0m\u001b[0m\n\u001b[0m\u001b[1;32m      7\u001b[0m     \u001b[0mt_VeriFL\u001b[0m  \u001b[0;34m=\u001b[0m \u001b[0mpickle\u001b[0m\u001b[0;34m.\u001b[0m\u001b[0mload\u001b[0m\u001b[0;34m(\u001b[0m\u001b[0mopen\u001b[0m\u001b[0;34m(\u001b[0m\u001b[0;34m'./results/VeriFL_N'\u001b[0m\u001b[0;34m+\u001b[0m\u001b[0mstr\u001b[0m\u001b[0;34m(\u001b[0m\u001b[0mN\u001b[0m\u001b[0;34m)\u001b[0m\u001b[0;34m+\u001b[0m\u001b[0;34m'_d10000'\u001b[0m\u001b[0;34m,\u001b[0m \u001b[0;34m'rb'\u001b[0m\u001b[0;34m)\u001b[0m\u001b[0;34m)\u001b[0m\u001b[0;34m\u001b[0m\u001b[0;34m\u001b[0m\u001b[0m\n\u001b[1;32m      8\u001b[0m \u001b[0;34m\u001b[0m\u001b[0m\n",
      "\u001b[0;31mValueError\u001b[0m: unsupported pickle protocol: 5"
     ]
    }
   ],
   "source": [
    "N_array = [10,40,70,100]\n",
    "plot_LightVeriFL = np.zeros((len(N_array),3))\n",
    "plot_VeriFL = np.zeros((len(N_array),3))\n",
    "\n",
    "for i, N in enumerate(N_array):\n",
    "    t_LightVeriFL  = pickle.load(open('./results/LightVeriFL_N'+str(N)+'_d10000', 'rb'))\n",
    "    t_VeriFL  = pickle.load(open('./results/VeriFL_N'+str(N)+'_d10000', 'rb'))\n",
    "\n",
    "    plot_LightVeriFL[i,:] = np.array([t_LightVeriFL[0]['t_Total'], t_LightVeriFL[0]['t_AggrTotal'], t_LightVeriFL[0]['t_VeriTotal']])\n",
    "    plot_VeriFL[i,:] = np.array([t_VeriFL[0]['t_Total'], t_VeriFL[0]['t_AggTotal'], t_VeriFL[0]['t_VeriTotal']])\n",
    "\n",
    "    print(N)\n",
    "    print(plot_LightVeriFL[i,:])\n",
    "    print(plot_VeriFL[i,:])\n",
    "    print()\n",
    "\n",
    "plt.figure()\n",
    "plt.plot(N_array, plot_LightVeriFL[:,0], label='LightVeriFL'    , markevery=1, marker=\"o\",markerfacecolor='None')\n",
    "plt.plot(N_array, plot_VeriFL[:,0],      label='VeriFL'         , markevery=1, marker=\"v\",markerfacecolor='None')\n",
    "plt.xlabel('N')\n",
    "plt.ylabel('Running time (sec)')\n",
    "plt.grid()\n",
    "plt.legend()\n",
    "plt.savefig('./plots/total_runtime_d10000.png',dpi=300, bbox_inches = \"tight\")\n",
    "plt.show()\n",
    "\n",
    "plt.figure()\n",
    "plt.plot(N_array, plot_LightVeriFL[:,1], label='LightVeriFL (aggregation phase)'    , markevery=1, marker=\"o\",markerfacecolor='None')\n",
    "plt.plot(N_array, plot_VeriFL[:,1],      label='VeriFL (aggregation phase)'         , markevery=1, marker=\"v\",markerfacecolor='None')\n",
    "plt.xlabel('N')\n",
    "plt.ylabel('Running time (sec)')\n",
    "plt.grid()\n",
    "plt.legend()\n",
    "plt.savefig('./plots/aggr_runtime_d10000.png',dpi=300, bbox_inches = \"tight\")\n",
    "plt.show()\n",
    "\n",
    "plt.figure()\n",
    "plt.plot(N_array, plot_LightVeriFL[:,2], label='LightVeriFL (verification phase)'    , markevery=1, marker=\"o\",markerfacecolor='None')\n",
    "plt.plot(N_array, plot_VeriFL[:,2],      label='VeriFL (verification phase)'         , markevery=1, marker=\"v\",markerfacecolor='None')\n",
    "plt.xlabel('N')\n",
    "plt.ylabel('Running time (sec)')\n",
    "plt.grid()\n",
    "plt.legend()\n",
    "plt.savefig('./plots/verification_runtime_d10000.png',dpi=300, bbox_inches = \"tight\")\n",
    "plt.show()"
   ]
  },
  {
   "cell_type": "code",
   "execution_count": null,
   "metadata": {},
   "outputs": [],
   "source": []
  }
 ],
 "metadata": {
  "kernelspec": {
   "display_name": "Python 3",
   "language": "python",
   "name": "python3"
  },
  "language_info": {
   "codemirror_mode": {
    "name": "ipython",
    "version": 3
   },
   "file_extension": ".py",
   "mimetype": "text/x-python",
   "name": "python",
   "nbconvert_exporter": "python",
   "pygments_lexer": "ipython3",
   "version": "3.6.13"
  },
  "vscode": {
   "interpreter": {
    "hash": "e7370f93d1d0cde622a1f8e1c04877d8463912d04d973331ad4851f04de6915a"
   }
  }
 },
 "nbformat": 4,
 "nbformat_minor": 2
}
